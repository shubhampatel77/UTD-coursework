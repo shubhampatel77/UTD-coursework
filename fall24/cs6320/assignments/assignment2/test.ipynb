{
 "cells": [
  {
   "cell_type": "code",
   "execution_count": 31,
   "metadata": {},
   "outputs": [
    {
     "name": "stdout",
     "output_type": "stream",
     "text": [
      "0\n"
     ]
    }
   ],
   "source": [
    "import json\n",
    "with open('Data_Embedding/test.json', 'r') as f:\n",
    "    x = json.load(f)\n",
    "    \n",
    "with open('test.json', 'r') as f:\n",
    "    y = json.load(f)\n",
    "x_stars = set()\n",
    "x_2 = set()\n",
    "y_stars = set()\n",
    "for i in range(len(x)):\n",
    "    x_stars.add(x[i]['text'])\n",
    "    x_2.add(x[i]['stars'])\n",
    "for i in range(len(y)):\n",
    "    y_stars.add(y[i]['text'])\n",
    "print(len(x_stars - x_stars.union(y_stars)))"
   ]
  },
  {
   "cell_type": "code",
   "execution_count": 32,
   "metadata": {},
   "outputs": [
    {
     "name": "stdout",
     "output_type": "stream",
     "text": [
      "800\n"
     ]
    }
   ],
   "source": [
    "print(len(x))"
   ]
  },
  {
   "cell_type": "code",
   "execution_count": 38,
   "metadata": {},
   "outputs": [],
   "source": [
    "import os\n",
    "import numpy as np\n",
    "import pandas as pd\n",
    "import matplotlib.pyplot as plt\n",
    "import seaborn as sns\n",
    "\n",
    "def visualize_hyperparameter_results(grid_search_results, output_dir):\n",
    "    \"\"\"\n",
    "    Create visualization of hyperparameter tuning results\n",
    "    \"\"\"\n",
    "    # plt.style.use('seaborn')\n",
    "    \n",
    "    # Split results by learning rate\n",
    "    lr_groups = {0.1: [], 0.01: []}\n",
    "    for result in grid_search_results:\n",
    "        lr_groups[result['learning_rate']].append(result)\n",
    "    \n",
    "    fig, (ax1, ax2) = plt.subplots(1, 2, figsize=(15, 6))\n",
    "    \n",
    "    for lr, ax in zip([0.1, 0.01], [ax1, ax2]):\n",
    "        results = lr_groups[lr]\n",
    "        \n",
    "        # Create scatter points for each (hidden_dim, dropout) pair\n",
    "        hidden_dims = sorted(set(r['hidden_dim'] for r in results))\n",
    "        dropouts = sorted(set(r['dropout'] for r in results))\n",
    "        \n",
    "        # Create color map for dropout values\n",
    "        colors = plt.cm.viridis(np.linspace(0, 1, len(dropouts)))\n",
    "        \n",
    "        for i, dropout in enumerate(dropouts):\n",
    "            x_vals = []  # hidden dims\n",
    "            y_vals = []  # val accuracies\n",
    "            sizes = []   # epochs (for bubble size)\n",
    "            \n",
    "            for hd in hidden_dims:\n",
    "                result = next(r for r in results \n",
    "                            if r['hidden_dim'] == hd and r['dropout'] == dropout)\n",
    "                x_vals.append(hd)\n",
    "                y_vals.append(result['best_val_acc'])\n",
    "                sizes.append(result['best_epoch'] * 20 + 100)  # Scale for visibility\n",
    "            \n",
    "            ax.scatter(x_vals, y_vals, s=sizes, c=[colors[i]], \n",
    "                      alpha=0.6, label=f'Dropout={dropout}')\n",
    "            \n",
    "            # Add connecting lines\n",
    "            ax.plot(x_vals, y_vals, '--', c=colors[i], alpha=0.3)\n",
    "        \n",
    "        ax.set_xlabel('Hidden Dimension')\n",
    "        ax.set_ylabel('Best Validation Accuracy')\n",
    "        ax.set_title(f'Learning Rate = {lr}')\n",
    "        ax.grid(True, alpha=0.3)\n",
    "        ax.legend(bbox_to_anchor=(1.05, 1), loc='upper left')\n",
    "        \n",
    "        # Annotate points with epochs\n",
    "        for result in results:\n",
    "            ax.annotate(f\"{result['best_epoch']+1}\",\n",
    "                       (result['hidden_dim'], result['best_val_acc']),\n",
    "                       xytext=(5, 5), textcoords='offset points',\n",
    "                       fontsize=8)\n",
    "    \n",
    "    plt.tight_layout()\n",
    "    plt.savefig(os.path.join(output_dir, 'hyperparameter_comparison.png'), \n",
    "                bbox_inches='tight', dpi=300)\n",
    "    plt.close()\n",
    "\n",
    "    # Create heatmap visualization\n",
    "    fig, (ax1, ax2) = plt.subplots(1, 2, figsize=(15, 5))\n",
    "    \n",
    "    for lr, ax in zip([0.1, 0.01], [ax1, ax2]):\n",
    "        results = lr_groups[lr]\n",
    "        \n",
    "        # Create matrix for heatmap\n",
    "        acc_matrix = np.zeros((len(dropouts), len(hidden_dims)))\n",
    "        for i, dropout in enumerate(dropouts):\n",
    "            for j, hd in enumerate(hidden_dims):\n",
    "                result = next(r for r in results \n",
    "                            if r['hidden_dim'] == hd and r['dropout'] == dropout)\n",
    "                acc_matrix[i, j] = result['best_val_acc']\n",
    "        \n",
    "        sns.heatmap(acc_matrix, annot=True, fmt='.3f', \n",
    "                    xticklabels=hidden_dims, yticklabels=dropouts,\n",
    "                    ax=ax, cmap='YlOrRd')\n",
    "        ax.set_xlabel('Hidden Dimension')\n",
    "        ax.set_ylabel('Dropout')\n",
    "        ax.set_title(f'Validation Accuracy (LR={lr})')\n",
    "    \n",
    "    plt.tight_layout()\n",
    "    plt.savefig(os.path.join(output_dir, 'hyperparameter_heatmap.png'), \n",
    "                bbox_inches='tight', dpi=300)\n",
    "    plt.close()\n",
    "    \n"
   ]
  },
  {
   "cell_type": "code",
   "execution_count": 39,
   "metadata": {},
   "outputs": [],
   "source": [
    "# Load CSV data and prepare grid search results\n",
    "def load_data(csv_file_path):\n",
    "    # Load the CSV file into a DataFrame\n",
    "    df = pd.read_csv(csv_file_path)\n",
    "    # Convert DataFrame rows to a list of dictionaries (each row is a dictionary)\n",
    "    grid_search_results = df.to_dict(orient='records')\n",
    "    return grid_search_results\n",
    "\n",
    "# Define output directory\n",
    "output_dir = 'results/plots'\n",
    "os.makedirs(output_dir, exist_ok=True)\n",
    "\n",
    "# Load data and visualize\n",
    "csv_file_path = 'results/grid_search_results.csv'  # Path to your CSV file\n",
    "grid_search_results = load_data(csv_file_path)\n",
    "\n",
    "# Call the visualization function\n",
    "visualize_hyperparameter_results(grid_search_results, output_dir)"
   ]
  },
  {
   "cell_type": "code",
   "execution_count": 46,
   "metadata": {},
   "outputs": [
    {
     "name": "stdout",
     "output_type": "stream",
     "text": [
      "50\n",
      "/Users/shubhampatel/Desktop/UTD/Sem 4 F24/CS 6320/Assignments/Assignment 2/assignment2_release\n"
     ]
    }
   ],
   "source": [
    "import pickle\n",
    "word_embedding = pickle.load(open('./Data_Embedding/word_embedding.pkl', 'rb'))\n",
    "print(len(word_embedding['the']))\n",
    "!pwd"
   ]
  }
 ],
 "metadata": {
  "kernelspec": {
   "display_name": "torch",
   "language": "python",
   "name": "python3"
  },
  "language_info": {
   "codemirror_mode": {
    "name": "ipython",
    "version": 3
   },
   "file_extension": ".py",
   "mimetype": "text/x-python",
   "name": "python",
   "nbconvert_exporter": "python",
   "pygments_lexer": "ipython3",
   "version": "3.11.8"
  }
 },
 "nbformat": 4,
 "nbformat_minor": 2
}
